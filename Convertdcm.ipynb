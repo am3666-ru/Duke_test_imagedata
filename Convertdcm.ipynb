{
  "nbformat": 4,
  "nbformat_minor": 0,
  "metadata": {
    "colab": {
      "provenance": [],
      "authorship_tag": "ABX9TyNbL2BHxj+j+3I/bYqZsmG/",
      "include_colab_link": true
    },
    "kernelspec": {
      "name": "python3",
      "display_name": "Python 3"
    },
    "language_info": {
      "name": "python"
    }
  },
  "cells": [
    {
      "cell_type": "markdown",
      "metadata": {
        "id": "view-in-github",
        "colab_type": "text"
      },
      "source": [
        "<a href=\"https://colab.research.google.com/github/am3666-ru/Duke_test_imagedata/blob/main/Convertdcm.ipynb\" target=\"_parent\"><img src=\"https://colab.research.google.com/assets/colab-badge.svg\" alt=\"Open In Colab\"/></a>"
      ]
    },
    {
      "cell_type": "code",
      "execution_count": null,
      "metadata": {
        "id": "dsDcbvfuDMYZ"
      },
      "outputs": [],
      "source": []
    },
    {
      "cell_type": "code",
      "source": [
        "import numpy as np\n",
        "import glob\n",
        "import os\n",
        "import re\n",
        "import sys\n",
        "import cv2\n",
        "from pathlib import Path\n",
        "from PIL import Image\n",
        "!pip install pydicom\n",
        "import pydicom.uid\n",
        "from pydicom import dcmread\n",
        "from pydicom.data import get_testdata_file\n",
        "from PIL import Image"
      ],
      "metadata": {
        "colab": {
          "base_uri": "https://localhost:8080/"
        },
        "id": "blPsTJaYDTI1",
        "outputId": "c964ac61-4b32-4365-b15d-660a06f2055f"
      },
      "execution_count": 2,
      "outputs": [
        {
          "output_type": "stream",
          "name": "stdout",
          "text": [
            "Collecting pydicom\n",
            "  Downloading pydicom-2.4.4-py3-none-any.whl (1.8 MB)\n",
            "\u001b[2K     \u001b[90m━━━━━━━━━━━━━━━━━━━━━━━━━━━━━━━━━━━━━━━━\u001b[0m \u001b[32m1.8/1.8 MB\u001b[0m \u001b[31m13.5 MB/s\u001b[0m eta \u001b[36m0:00:00\u001b[0m\n",
            "\u001b[?25hInstalling collected packages: pydicom\n",
            "Successfully installed pydicom-2.4.4\n"
          ]
        }
      ]
    },
    {
      "cell_type": "code",
      "source": [
        "!git clone https://github.com/am3666-ru/Duke_test_imagedata"
      ],
      "metadata": {
        "colab": {
          "base_uri": "https://localhost:8080/"
        },
        "id": "_ATyuMAlW5eF",
        "outputId": "855700b2-ac2c-4ae3-95d4-e206761217da"
      },
      "execution_count": 3,
      "outputs": [
        {
          "output_type": "stream",
          "name": "stdout",
          "text": [
            "Cloning into 'Duke_test_imagedata'...\n",
            "remote: Enumerating objects: 7601, done.\u001b[K\n",
            "remote: Total 7601 (delta 0), reused 0 (delta 0), pack-reused 7601\u001b[K\n",
            "Receiving objects: 100% (7601/7601), 1.44 GiB | 21.35 MiB/s, done.\n",
            "Resolving deltas: 100% (75/75), done.\n",
            "Updating files: 100% (9776/9776), done.\n"
          ]
        }
      ]
    },
    {
      "cell_type": "code",
      "source": [
        "def normalize(image: np.ndarray) -> np.ndarray:\n",
        "    \"\"\"\n",
        "    Normalize MR scan image intensity. Sets minimum value to zero, rescales to the full 0-255 range.\n",
        "    :param np.ndarray image: a single slice of an MR scan\n",
        "    :return np.ndarray normalized_image: normalized MR slice\n",
        "    \"\"\"\n",
        "    # Set minimum value to zero\n",
        "    min_val = np.min(image)\n",
        "    max_val = np.max(image)\n",
        "    if min_val < max_val:\n",
        "        image = (image - min_val) / (max_val - min_val) * 255\n",
        "    else:\n",
        "        image = np.zeros_like(image)\n",
        "\n",
        "    # Apply gamma correction to enhance brightness\n",
        "    gamma = 0.8  # Adjust the gamma value as needed\n",
        "    normalized_image = cv2.convertScaleAbs(image, alpha=1.0)\n",
        "    normalized_image = cv2.pow(normalized_image / 255.0, gamma) * 255.0\n",
        "\n",
        "    return normalized_image.astype(np.uint8)\n",
        "\n",
        "def grayscale_to_rgb(grayscale_image):\n",
        "    return cv2.cvtColor(grayscale_image, cv2.COLOR_GRAY2RGB)\n",
        "\n",
        "def main():\n",
        "    \"\"\"Illustration of what normalize might look like in practice \"\"\"\n",
        "\n",
        "\n",
        "    data_dir = \"/content/Duke_test_imagedata/test_0/Breast_MRI_001/DICOM/t1-sample/\"\n",
        "    target_dir = \"/content/Duke_test_imagedata/test_0/Breast_MRI_001/PNG/t1-sample/\"\n",
        "\n",
        "\n",
        "\n",
        "    for image_fpath in os.listdir(data_dir):\n",
        "        image_fpath = os.path.join(data_dir, image_fpath)\n",
        "\n",
        "        # Read the DICOM file, setting Transfer Syntax manually\n",
        "        ds = dcmread(image_fpath, force=True)\n",
        "\n",
        "        # Check if the dataset has pixel data\n",
        "        if \"PixelData\" not in ds:\n",
        "            print(f\"Skipping {image_fpath} as it doesn't contain pixel data.\")\n",
        "            continue\n",
        "\n",
        "        image_nparray = ds.pixel_array\n",
        "\n",
        "        normalized_image = normalize(image_nparray)\n",
        "        rgb_image = grayscale_to_rgb(normalized_image)\n",
        "\n",
        "        image_dir, fname = os.path.split(image_fpath)\n",
        "        fname = fname.replace(\".dcm\", \".png\")\n",
        "        cv2.imwrite(os.path.join(target_dir, fname), rgb_image)\n",
        "\n",
        "if __name__ == \"__main__\":\n",
        "    main()\n",
        "\n",
        "    pass"
      ],
      "metadata": {
        "id": "xfcReuiYXPDc"
      },
      "execution_count": 7,
      "outputs": []
    },
    {
      "cell_type": "markdown",
      "source": [],
      "metadata": {
        "id": "RaZOHHHZhonX"
      }
    }
  ]
}